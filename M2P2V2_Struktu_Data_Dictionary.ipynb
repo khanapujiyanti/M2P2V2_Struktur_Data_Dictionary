{
  "nbformat": 4,
  "nbformat_minor": 0,
  "metadata": {
    "colab": {
      "name": "M2P2V2_Struktu_Data_Dictionary.ipynb",
      "provenance": [],
      "collapsed_sections": [],
      "authorship_tag": "ABX9TyMD0P0AtZMvW21pNYlpuBcF",
      "include_colab_link": true
    },
    "kernelspec": {
      "name": "python3",
      "display_name": "Python 3"
    },
    "language_info": {
      "name": "python"
    }
  },
  "cells": [
    {
      "cell_type": "markdown",
      "metadata": {
        "id": "view-in-github",
        "colab_type": "text"
      },
      "source": [
        "<a href=\"https://colab.research.google.com/github/khanapujiyanti/M2P2V2_Struktur_Data_Dictionary/blob/main/M2P2V2_Struktu_Data_Dictionary.ipynb\" target=\"_parent\"><img src=\"https://colab.research.google.com/assets/colab-badge.svg\" alt=\"Open In Colab\"/></a>"
      ]
    },
    {
      "cell_type": "code",
      "metadata": {
        "id": "xGuoeXRL1ivD"
      },
      "source": [
        "#Dictionary"
      ],
      "execution_count": null,
      "outputs": []
    },
    {
      "cell_type": "markdown",
      "metadata": {
        "id": "EWGWDsVL1mJf"
      },
      "source": [
        "Dictionary pada Python adalah kumpulan pasangan kunci-nilai(pair of key-value) yang bersifat tidak berurutan. Dictionary dapat digunakan untuk data kecil hingga besar. Untuk mengakses datanya, kita harus mengetahui kuncinya (key). Pada Python, dictionary didefinisikan dengan kurawal dan tambahan definisi berikut:\n",
        "\n",
        "\n",
        "*   Setiap elemen pair key-value dipisahkan dengan koma (,).\n",
        "*   key dan value dipisahkann dengan titik dua (:),\n",
        "*   Key dan Value dapat berupa tipe variabel/obyek apapun.\n",
        "\n",
        "\n",
        "\n"
      ]
    },
    {
      "cell_type": "code",
      "metadata": {
        "colab": {
          "base_uri": "https://localhost:8080/"
        },
        "id": "4Qru8Z8e29Vr",
        "outputId": "157f6910-8243-43d9-c859-1b03acd418ad"
      },
      "source": [
        "L1 = [1,'dua', True, 2+3j, 2+3j]\n",
        "L1"
      ],
      "execution_count": null,
      "outputs": [
        {
          "output_type": "execute_result",
          "data": {
            "text/plain": [
              "[1, 'dua', True, (2+3j), (2+3j)]"
            ]
          },
          "metadata": {},
          "execution_count": 1
        }
      ]
    },
    {
      "cell_type": "code",
      "metadata": {
        "colab": {
          "base_uri": "https://localhost:8080/"
        },
        "id": "7kG6bodE3G0M",
        "outputId": "78f40f8a-12be-4f4a-de05-c49ae2e6a7d9"
      },
      "source": [
        "#Contoh Dictionary\n",
        "D1 = {1:'value','key':2}\n",
        "print(D1)"
      ],
      "execution_count": null,
      "outputs": [
        {
          "output_type": "stream",
          "name": "stdout",
          "text": [
            "{1: 'value', 'key': 2}\n"
          ]
        }
      ]
    },
    {
      "cell_type": "markdown",
      "metadata": {
        "id": "w7LySjPF1gCm"
      },
      "source": [
        "#Latihan 1"
      ]
    },
    {
      "cell_type": "code",
      "metadata": {
        "id": "4mYDxPFqEOjQ",
        "colab": {
          "base_uri": "https://localhost:8080/"
        },
        "outputId": "56f85946-0a3c-489d-d54b-8119787d4ecb"
      },
      "source": [
        "#Buatlah struktur data distionary kalian sendiri\n",
        "\n",
        "d1 = {3:'tiga','key':6+5j}\n",
        "print(d1)"
      ],
      "execution_count": null,
      "outputs": [
        {
          "output_type": "stream",
          "name": "stdout",
          "text": [
            "{3: 'tiga', 'key': (6+5j)}\n"
          ]
        }
      ]
    },
    {
      "cell_type": "code",
      "metadata": {
        "colab": {
          "base_uri": "https://localhost:8080/"
        },
        "id": "Dc0x_NSn7GAO",
        "outputId": "3cbb305d-dc05-4857-8ecd-3856627fc8e3"
      },
      "source": [
        "L1[0]"
      ],
      "execution_count": null,
      "outputs": [
        {
          "output_type": "execute_result",
          "data": {
            "text/plain": [
              "1"
            ]
          },
          "metadata": {},
          "execution_count": 2
        }
      ]
    },
    {
      "cell_type": "code",
      "metadata": {
        "colab": {
          "base_uri": "https://localhost:8080/"
        },
        "id": "3HxLtyDr7L5c",
        "outputId": "96dce8eb-89a1-464c-9331-4f2f22e5b389"
      },
      "source": [
        "D1['key']"
      ],
      "execution_count": null,
      "outputs": [
        {
          "output_type": "execute_result",
          "data": {
            "text/plain": [
              "2"
            ]
          },
          "metadata": {},
          "execution_count": 9
        }
      ]
    },
    {
      "cell_type": "code",
      "metadata": {
        "colab": {
          "base_uri": "https://localhost:8080/"
        },
        "id": "cFTWtdca7QSW",
        "outputId": "9973b2f0-d208-4b1b-e9be-2684a3fc9fe8"
      },
      "source": [
        "#Memanggil elemen berdasarkan key\n",
        "print(\"D1['key'] = \", D1['key']);"
      ],
      "execution_count": null,
      "outputs": [
        {
          "output_type": "stream",
          "name": "stdout",
          "text": [
            "D1['key'] =  2\n"
          ]
        }
      ]
    },
    {
      "cell_type": "markdown",
      "metadata": {
        "id": "764dwVoZ7uJN"
      },
      "source": [
        "Dictionary bukan termasuk dalam implementasi urutan, sehingga tidak bisa dipanggil dengan urutan indeks. Misalnya dalamcontoh erikut dicoba dengan indeks 2, tetapi menghasilkan error (Key Error) karena tidak ada kunci (key) 2:"
      ]
    },
    {
      "cell_type": "code",
      "metadata": {
        "colab": {
          "base_uri": "https://localhost:8080/",
          "height": 180
        },
        "id": "V2z3y57X8KbI",
        "outputId": "d08d013e-3125-4699-e336-8d25d10c7c0d"
      },
      "source": [
        "#Nyobain error\n",
        "print(\"D1[2] = \", D1[2]);"
      ],
      "execution_count": null,
      "outputs": [
        {
          "output_type": "error",
          "ename": "KeyError",
          "evalue": "ignored",
          "traceback": [
            "\u001b[0;31m---------------------------------------------------------------------------\u001b[0m",
            "\u001b[0;31mKeyError\u001b[0m                                  Traceback (most recent call last)",
            "\u001b[0;32m<ipython-input-11-89fc6cbc4dcb>\u001b[0m in \u001b[0;36m<module>\u001b[0;34m()\u001b[0m\n\u001b[1;32m      1\u001b[0m \u001b[0;31m#Nyobain error\u001b[0m\u001b[0;34m\u001b[0m\u001b[0;34m\u001b[0m\u001b[0;34m\u001b[0m\u001b[0m\n\u001b[0;32m----> 2\u001b[0;31m \u001b[0mprint\u001b[0m\u001b[0;34m(\u001b[0m\u001b[0;34m\"D1[2] = \"\u001b[0m\u001b[0;34m,\u001b[0m \u001b[0mD1\u001b[0m\u001b[0;34m[\u001b[0m\u001b[0;36m2\u001b[0m\u001b[0;34m]\u001b[0m\u001b[0;34m)\u001b[0m\u001b[0;34m;\u001b[0m\u001b[0;34m\u001b[0m\u001b[0;34m\u001b[0m\u001b[0m\n\u001b[0m",
            "\u001b[0;31mKeyError\u001b[0m: 2"
          ]
        }
      ]
    },
    {
      "cell_type": "markdown",
      "metadata": {
        "id": "GiS6ErL_8YA0"
      },
      "source": [
        "#Latihan 2"
      ]
    },
    {
      "cell_type": "code",
      "metadata": {
        "colab": {
          "base_uri": "https://localhost:8080/"
        },
        "id": "_wj5Gukb8bWT",
        "outputId": "05283bb4-79e5-457e-d247-fd30939a04e0"
      },
      "source": [
        "#Panggil salah satu key dan value pada dictionary yang kalian buat\n",
        "print(\"d1['key'] = \", d1['key']);\n",
        "\n",
        "print(\"d1[3] = \", d1[3]);"
      ],
      "execution_count": null,
      "outputs": [
        {
          "output_type": "stream",
          "name": "stdout",
          "text": [
            "d1['key'] =  (6+5j)\n",
            "d1[3] =  tiga\n"
          ]
        }
      ]
    }
  ]
}